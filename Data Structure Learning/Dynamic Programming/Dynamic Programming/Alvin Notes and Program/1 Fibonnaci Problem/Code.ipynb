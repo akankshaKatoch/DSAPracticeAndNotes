{
 "cells": [
  {
   "cell_type": "code",
   "execution_count": 3,
   "id": "2b81a5c8",
   "metadata": {},
   "outputs": [
    {
     "name": "stdout",
     "output_type": "stream",
     "text": [
      "8\n",
      "55\n",
      "12586269025\n"
     ]
    }
   ],
   "source": [
    "#Example 1: using recursion \n",
    "\n",
    "def fib(n):\n",
    "    if (n<=2): \n",
    "        return 1\n",
    "    return fib(n-1) + fib(n-2)\n",
    "\n",
    "print(fib(6))\n",
    "print(fib(10))\n",
    "# it takes time to execute due to recursion\n",
    "print(fib(50))\n"
   ]
  },
  {
   "cell_type": "code",
   "execution_count": null,
   "id": "824829ce",
   "metadata": {},
   "outputs": [
    {
     "name": "stdout",
     "output_type": "stream",
     "text": [
      "8\n",
      "55\n",
      "12586269025\n"
     ]
    }
   ],
   "source": [
    "#finonaci using memonisation\n",
    "def fib(n, memo = {}):\n",
    "    if n in memo:\n",
    "        return memo[n]\n",
    "    if n<=2:\n",
    "        return 1\n",
    "    memo[n] = fib(n-1, memo) + fib(n-2, memo)\n",
    "    return memo[n]\n",
    "\n",
    "print(fib(6))\n",
    "print(fib(10))\n",
    "print(fib(50))"
   ]
  },
  {
   "cell_type": "code",
   "execution_count": 10,
   "id": "473fdf94",
   "metadata": {},
   "outputs": [
    {
     "name": "stdout",
     "output_type": "stream",
     "text": [
      "8\n",
      "55\n",
      "12586269025\n"
     ]
    }
   ],
   "source": [
    "# Dynamic Programming Tabuation\n",
    "def fib(n):\n",
    "    if n == 0:\n",
    "        return 0\n",
    "    table = [0]*(n+2)\n",
    "    table[1] = 1\n",
    "\n",
    "    for i in range(n):\n",
    "        table[i+1] += table[i]\n",
    "        table[i+2] += table[i]\n",
    "    return table[n]\n",
    "\n",
    "\n",
    "\n",
    "\n",
    "print(fib(6))\n",
    "print(fib(10))\n",
    "print(fib(50))\n",
    "\n"
   ]
  }
 ],
 "metadata": {
  "kernelspec": {
   "display_name": "Python 3",
   "language": "python",
   "name": "python3"
  },
  "language_info": {
   "codemirror_mode": {
    "name": "ipython",
    "version": 3
   },
   "file_extension": ".py",
   "mimetype": "text/x-python",
   "name": "python",
   "nbconvert_exporter": "python",
   "pygments_lexer": "ipython3",
   "version": "3.12.6"
  }
 },
 "nbformat": 4,
 "nbformat_minor": 5
}
