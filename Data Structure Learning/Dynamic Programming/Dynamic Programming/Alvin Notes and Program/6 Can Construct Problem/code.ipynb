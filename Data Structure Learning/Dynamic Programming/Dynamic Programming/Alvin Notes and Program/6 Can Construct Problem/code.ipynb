{
 "cells": [
  {
   "cell_type": "code",
   "execution_count": null,
   "id": "75bf82af",
   "metadata": {},
   "outputs": [
    {
     "name": "stdout",
     "output_type": "stream",
     "text": [
      "True\n",
      "False\n",
      "True\n"
     ]
    },
    {
     "ename": "KeyboardInterrupt",
     "evalue": "",
     "output_type": "error",
     "traceback": [
      "\u001b[1;31m---------------------------------------------------------------------------\u001b[0m",
      "\u001b[1;31mKeyboardInterrupt\u001b[0m                         Traceback (most recent call last)",
      "Cell \u001b[1;32mIn[2], line 25\u001b[0m\n\u001b[0;32m     23\u001b[0m \u001b[38;5;28mprint\u001b[39m(canConstruct(\u001b[38;5;124m\"\u001b[39m\u001b[38;5;124mskateboard\u001b[39m\u001b[38;5;124m\"\u001b[39m, [\u001b[38;5;124m'\u001b[39m\u001b[38;5;124mbo\u001b[39m\u001b[38;5;124m'\u001b[39m, \u001b[38;5;124m'\u001b[39m\u001b[38;5;124mrd\u001b[39m\u001b[38;5;124m'\u001b[39m, \u001b[38;5;124m'\u001b[39m\u001b[38;5;124mate\u001b[39m\u001b[38;5;124m'\u001b[39m, \u001b[38;5;124m'\u001b[39m\u001b[38;5;124mt\u001b[39m\u001b[38;5;124m'\u001b[39m, \u001b[38;5;124m'\u001b[39m\u001b[38;5;124mska\u001b[39m\u001b[38;5;124m'\u001b[39m, \u001b[38;5;124m'\u001b[39m\u001b[38;5;124msk\u001b[39m\u001b[38;5;124m'\u001b[39m, \u001b[38;5;124m'\u001b[39m\u001b[38;5;124mboar\u001b[39m\u001b[38;5;124m'\u001b[39m]))\n\u001b[0;32m     24\u001b[0m \u001b[38;5;28mprint\u001b[39m(canConstruct(\u001b[38;5;124m\"\u001b[39m\u001b[38;5;124menterpotentpot\u001b[39m\u001b[38;5;124m\"\u001b[39m, [\u001b[38;5;124m'\u001b[39m\u001b[38;5;124ma\u001b[39m\u001b[38;5;124m'\u001b[39m, \u001b[38;5;124m'\u001b[39m\u001b[38;5;124mp\u001b[39m\u001b[38;5;124m'\u001b[39m, \u001b[38;5;124m'\u001b[39m\u001b[38;5;124ment\u001b[39m\u001b[38;5;124m'\u001b[39m, \u001b[38;5;124m'\u001b[39m\u001b[38;5;124menter\u001b[39m\u001b[38;5;124m'\u001b[39m, \u001b[38;5;124m'\u001b[39m\u001b[38;5;124mot\u001b[39m\u001b[38;5;124m'\u001b[39m, \u001b[38;5;124m'\u001b[39m\u001b[38;5;124mo\u001b[39m\u001b[38;5;124m'\u001b[39m, \u001b[38;5;124m'\u001b[39m\u001b[38;5;124mt\u001b[39m\u001b[38;5;124m'\u001b[39m]))\n\u001b[1;32m---> 25\u001b[0m \u001b[38;5;28mprint\u001b[39m(\u001b[43mcanConstruct\u001b[49m\u001b[43m(\u001b[49m\u001b[38;5;124;43m\"\u001b[39;49m\u001b[38;5;124;43meeeeeeeeeeeeeeeeeeeeeeeeeeeeeeeeeeeeef\u001b[39;49m\u001b[38;5;124;43m\"\u001b[39;49m\u001b[43m,\u001b[49m\u001b[43m \u001b[49m\u001b[43m[\u001b[49m\u001b[38;5;124;43m'\u001b[39;49m\u001b[38;5;124;43me\u001b[39;49m\u001b[38;5;124;43m'\u001b[39;49m\u001b[43m,\u001b[49m\u001b[43m \u001b[49m\u001b[38;5;124;43m'\u001b[39;49m\u001b[38;5;124;43mee\u001b[39;49m\u001b[38;5;124;43m'\u001b[39;49m\u001b[43m,\u001b[49m\u001b[43m \u001b[49m\u001b[38;5;124;43m'\u001b[39;49m\u001b[38;5;124;43meee\u001b[39;49m\u001b[38;5;124;43m'\u001b[39;49m\u001b[43m,\u001b[49m\u001b[43m \u001b[49m\u001b[38;5;124;43m'\u001b[39;49m\u001b[38;5;124;43meeee\u001b[39;49m\u001b[38;5;124;43m'\u001b[39;49m\u001b[43m,\u001b[49m\u001b[43m \u001b[49m\u001b[38;5;124;43m'\u001b[39;49m\u001b[38;5;124;43meeeee\u001b[39;49m\u001b[38;5;124;43m'\u001b[39;49m\u001b[43m]\u001b[49m\u001b[43m)\u001b[49m)\n",
      "Cell \u001b[1;32mIn[2], line 17\u001b[0m, in \u001b[0;36mcanConstruct\u001b[1;34m(target, wordbank)\u001b[0m\n\u001b[0;32m      9\u001b[0m \u001b[38;5;250m        \u001b[39m\u001b[38;5;124;03m'''\u001b[39;00m\n\u001b[0;32m     10\u001b[0m \u001b[38;5;124;03m        new_string = target.replace(word_to_remove, \"\") \u001b[39;00m\n\u001b[0;32m     11\u001b[0m \u001b[38;5;124;03m        # It removes all occurrences of word_to_remove from target.\u001b[39;00m\n\u001b[1;32m   (...)\u001b[0m\n\u001b[0;32m     14\u001b[0m \u001b[38;5;124;03m        # to remove only the first occurrence\u001b[39;00m\n\u001b[0;32m     15\u001b[0m \u001b[38;5;124;03m        '''\u001b[39;00m\n\u001b[0;32m     16\u001b[0m         suffix \u001b[38;5;241m=\u001b[39m target\u001b[38;5;241m.\u001b[39mreplace(word, \u001b[38;5;124m\"\u001b[39m\u001b[38;5;124m\"\u001b[39m, \u001b[38;5;241m1\u001b[39m)\n\u001b[1;32m---> 17\u001b[0m         \u001b[38;5;28;01mif\u001b[39;00m \u001b[43mcanConstruct\u001b[49m\u001b[43m(\u001b[49m\u001b[43msuffix\u001b[49m\u001b[43m,\u001b[49m\u001b[43m \u001b[49m\u001b[43mwordbank\u001b[49m\u001b[43m)\u001b[49m \u001b[38;5;241m==\u001b[39m \u001b[38;5;28;01mTrue\u001b[39;00m:\n\u001b[0;32m     18\u001b[0m             \u001b[38;5;28;01mreturn\u001b[39;00m \u001b[38;5;28;01mTrue\u001b[39;00m\n\u001b[0;32m     20\u001b[0m \u001b[38;5;28;01mreturn\u001b[39;00m \u001b[38;5;28;01mFalse\u001b[39;00m\n",
      "Cell \u001b[1;32mIn[2], line 17\u001b[0m, in \u001b[0;36mcanConstruct\u001b[1;34m(target, wordbank)\u001b[0m\n\u001b[0;32m      9\u001b[0m \u001b[38;5;250m        \u001b[39m\u001b[38;5;124;03m'''\u001b[39;00m\n\u001b[0;32m     10\u001b[0m \u001b[38;5;124;03m        new_string = target.replace(word_to_remove, \"\") \u001b[39;00m\n\u001b[0;32m     11\u001b[0m \u001b[38;5;124;03m        # It removes all occurrences of word_to_remove from target.\u001b[39;00m\n\u001b[1;32m   (...)\u001b[0m\n\u001b[0;32m     14\u001b[0m \u001b[38;5;124;03m        # to remove only the first occurrence\u001b[39;00m\n\u001b[0;32m     15\u001b[0m \u001b[38;5;124;03m        '''\u001b[39;00m\n\u001b[0;32m     16\u001b[0m         suffix \u001b[38;5;241m=\u001b[39m target\u001b[38;5;241m.\u001b[39mreplace(word, \u001b[38;5;124m\"\u001b[39m\u001b[38;5;124m\"\u001b[39m, \u001b[38;5;241m1\u001b[39m)\n\u001b[1;32m---> 17\u001b[0m         \u001b[38;5;28;01mif\u001b[39;00m \u001b[43mcanConstruct\u001b[49m\u001b[43m(\u001b[49m\u001b[43msuffix\u001b[49m\u001b[43m,\u001b[49m\u001b[43m \u001b[49m\u001b[43mwordbank\u001b[49m\u001b[43m)\u001b[49m \u001b[38;5;241m==\u001b[39m \u001b[38;5;28;01mTrue\u001b[39;00m:\n\u001b[0;32m     18\u001b[0m             \u001b[38;5;28;01mreturn\u001b[39;00m \u001b[38;5;28;01mTrue\u001b[39;00m\n\u001b[0;32m     20\u001b[0m \u001b[38;5;28;01mreturn\u001b[39;00m \u001b[38;5;28;01mFalse\u001b[39;00m\n",
      "    \u001b[1;31m[... skipping similar frames: canConstruct at line 17 (20 times)]\u001b[0m\n",
      "Cell \u001b[1;32mIn[2], line 17\u001b[0m, in \u001b[0;36mcanConstruct\u001b[1;34m(target, wordbank)\u001b[0m\n\u001b[0;32m      9\u001b[0m \u001b[38;5;250m        \u001b[39m\u001b[38;5;124;03m'''\u001b[39;00m\n\u001b[0;32m     10\u001b[0m \u001b[38;5;124;03m        new_string = target.replace(word_to_remove, \"\") \u001b[39;00m\n\u001b[0;32m     11\u001b[0m \u001b[38;5;124;03m        # It removes all occurrences of word_to_remove from target.\u001b[39;00m\n\u001b[1;32m   (...)\u001b[0m\n\u001b[0;32m     14\u001b[0m \u001b[38;5;124;03m        # to remove only the first occurrence\u001b[39;00m\n\u001b[0;32m     15\u001b[0m \u001b[38;5;124;03m        '''\u001b[39;00m\n\u001b[0;32m     16\u001b[0m         suffix \u001b[38;5;241m=\u001b[39m target\u001b[38;5;241m.\u001b[39mreplace(word, \u001b[38;5;124m\"\u001b[39m\u001b[38;5;124m\"\u001b[39m, \u001b[38;5;241m1\u001b[39m)\n\u001b[1;32m---> 17\u001b[0m         \u001b[38;5;28;01mif\u001b[39;00m \u001b[43mcanConstruct\u001b[49m\u001b[43m(\u001b[49m\u001b[43msuffix\u001b[49m\u001b[43m,\u001b[49m\u001b[43m \u001b[49m\u001b[43mwordbank\u001b[49m\u001b[43m)\u001b[49m \u001b[38;5;241m==\u001b[39m \u001b[38;5;28;01mTrue\u001b[39;00m:\n\u001b[0;32m     18\u001b[0m             \u001b[38;5;28;01mreturn\u001b[39;00m \u001b[38;5;28;01mTrue\u001b[39;00m\n\u001b[0;32m     20\u001b[0m \u001b[38;5;28;01mreturn\u001b[39;00m \u001b[38;5;28;01mFalse\u001b[39;00m\n",
      "Cell \u001b[1;32mIn[2], line 7\u001b[0m, in \u001b[0;36mcanConstruct\u001b[1;34m(target, wordbank)\u001b[0m\n\u001b[0;32m      4\u001b[0m \u001b[38;5;28;01mif\u001b[39;00m target \u001b[38;5;241m==\u001b[39m \u001b[38;5;124m'\u001b[39m\u001b[38;5;124m'\u001b[39m: \u001b[38;5;28;01mreturn\u001b[39;00m \u001b[38;5;28;01mTrue\u001b[39;00m\n\u001b[0;32m      6\u001b[0m \u001b[38;5;28;01mfor\u001b[39;00m word \u001b[38;5;129;01min\u001b[39;00m wordbank:\n\u001b[1;32m----> 7\u001b[0m     \u001b[38;5;28;01mif\u001b[39;00m target\u001b[38;5;241m.\u001b[39mfind(word) \u001b[38;5;241m==\u001b[39m \u001b[38;5;241m0\u001b[39m:\n\u001b[0;32m      8\u001b[0m         \u001b[38;5;66;03m#after removing the prefix\u001b[39;00m\n\u001b[0;32m      9\u001b[0m \u001b[38;5;250m        \u001b[39m\u001b[38;5;124;03m'''\u001b[39;00m\n\u001b[0;32m     10\u001b[0m \u001b[38;5;124;03m        new_string = target.replace(word_to_remove, \"\") \u001b[39;00m\n\u001b[0;32m     11\u001b[0m \u001b[38;5;124;03m        # It removes all occurrences of word_to_remove from target.\u001b[39;00m\n\u001b[1;32m   (...)\u001b[0m\n\u001b[0;32m     14\u001b[0m \u001b[38;5;124;03m        # to remove only the first occurrence\u001b[39;00m\n\u001b[0;32m     15\u001b[0m \u001b[38;5;124;03m        '''\u001b[39;00m\n\u001b[0;32m     16\u001b[0m         suffix \u001b[38;5;241m=\u001b[39m target\u001b[38;5;241m.\u001b[39mreplace(word, \u001b[38;5;124m\"\u001b[39m\u001b[38;5;124m\"\u001b[39m, \u001b[38;5;241m1\u001b[39m)\n",
      "\u001b[1;31mKeyboardInterrupt\u001b[0m: "
     ]
    }
   ],
   "source": [
    "#recursion \n",
    "\n",
    "def canConstruct(target, wordbank):\n",
    "    if target == '': return True\n",
    "\n",
    "    for word in wordbank:\n",
    "        if target.find(word) == 0:\n",
    "            #after removing the prefix\n",
    "            '''\n",
    "            new_string = target.replace(word_to_remove, \"\") \n",
    "            # It removes all occurrences of word_to_remove from target.\n",
    "\n",
    "            target = target.replace(word, \"\", 1)\n",
    "            # to remove only the first occurrence\n",
    "            '''\n",
    "            suffix = target.replace(word, \"\", 1)\n",
    "            if canConstruct(suffix, wordbank) == True:\n",
    "                return True\n",
    "            \n",
    "    return False\n",
    "\n",
    "print(canConstruct(\"abcdef\", ['ab', 'abc', 'cd', 'def', 'abcd']))\n",
    "print(canConstruct(\"skateboard\", ['bo', 'rd', 'ate', 't', 'ska', 'sk', 'boar']))\n",
    "print(canConstruct(\"enterpotentpot\", ['a', 'p', 'ent', 'enter', 'ot', 'o', 't']))\n",
    "# will take long time to run\n",
    "print(canConstruct(\"eeeeeeeeeeeeeeeeeeeeeeeeeeeeeeeeeeeeef\", ['e', 'ee', 'eee', 'eeee', 'eeeee']))\n",
    "        "
   ]
  },
  {
   "cell_type": "code",
   "execution_count": 4,
   "id": "acce4f3c",
   "metadata": {},
   "outputs": [
    {
     "name": "stdout",
     "output_type": "stream",
     "text": [
      "True\n",
      "False\n",
      "True\n",
      "False\n"
     ]
    }
   ],
   "source": [
    "# Memoization \n",
    "\n",
    "def canConstruct(target, wordbank, memo = None):\n",
    "\n",
    "    if memo == None:\n",
    "        memo = {}\n",
    "    \n",
    "    if target in memo:\n",
    "        return memo[target]\n",
    "        \n",
    "    if target == '': return True\n",
    "\n",
    "    for word in wordbank:\n",
    "        if target.find(word) == 0:\n",
    "            #after removing the prefix\n",
    "            '''\n",
    "            new_string = target.replace(word_to_remove, \"\") \n",
    "            # It removes all occurrences of word_to_remove from target.\n",
    "\n",
    "            target = target.replace(word, \"\", 1)\n",
    "            # to remove only the first occurrence\n",
    "            '''\n",
    "            suffix = target.replace(word, \"\", 1)\n",
    "            if canConstruct(suffix, wordbank, memo) == True:\n",
    "                memo[target] = True\n",
    "                return True\n",
    "    memo[target] = False       \n",
    "    return False\n",
    "\n",
    "print(canConstruct(\"abcdef\", ['ab', 'abc', 'cd', 'def', 'abcd']))\n",
    "print(canConstruct(\"skateboard\", ['bo', 'rd', 'ate', 't', 'ska', 'sk', 'boar']))\n",
    "print(canConstruct(\"enterpotentpot\", ['a', 'p', 'ent', 'enter', 'ot', 'o', 't']))\n",
    "print(canConstruct(\"eeeeeeeeeeeeeeeeeeeeeeeeeeeeeeeeeeeeef\", ['e', 'ee', 'eee', 'eeee', 'eeeee']))\n",
    "        "
   ]
  },
  {
   "cell_type": "code",
   "execution_count": 13,
   "id": "e6cfeca9",
   "metadata": {},
   "outputs": [
    {
     "name": "stdout",
     "output_type": "stream",
     "text": [
      "True\n",
      "False\n",
      "True\n",
      "False\n"
     ]
    }
   ],
   "source": [
    "# Tabulation \n",
    "\n",
    "def canConstruct(target, wordbank):\n",
    "    tarSize = len(target)\n",
    "    table = [False]*(tarSize+1)\n",
    "    table[0] = True\n",
    "\n",
    "    for i in range(tarSize):\n",
    "        if table[i]:\n",
    "            for word in wordbank:\n",
    "                # make sure each word match the actual words in table. \n",
    "                # SO i need to know the length of the word and match the character\n",
    "                #print(target[i:len(word)] , word)\n",
    "                if target[i:i+len(word)] == word:\n",
    "                #if table[i:i+len(word)] == word:\n",
    "                    #print(\"hello\")\n",
    "                    table[i+len(word)] = True\n",
    "                     \n",
    "\n",
    "    return table[tarSize]\n",
    "\n",
    "print(canConstruct(\"abcdef\", ['ab', 'abc', 'cd', 'def', 'abcd']))\n",
    "print(canConstruct(\"skateboard\", ['bo', 'rd', 'ate', 't', 'ska', 'sk', 'boar']))\n",
    "print(canConstruct(\"enterpotentpot\", ['a', 'p', 'ent', 'enter', 'ot', 'o', 't']))\n",
    "print(canConstruct(\"eeeeeeeeeeeeeeeeeeeeeeeeeeeeeeeeeeeeef\", ['e', 'ee', 'eee', 'eeee', 'eeeee']))"
   ]
  }
 ],
 "metadata": {
  "kernelspec": {
   "display_name": "Python 3",
   "language": "python",
   "name": "python3"
  },
  "language_info": {
   "codemirror_mode": {
    "name": "ipython",
    "version": 3
   },
   "file_extension": ".py",
   "mimetype": "text/x-python",
   "name": "python",
   "nbconvert_exporter": "python",
   "pygments_lexer": "ipython3",
   "version": "3.12.6"
  }
 },
 "nbformat": 4,
 "nbformat_minor": 5
}
