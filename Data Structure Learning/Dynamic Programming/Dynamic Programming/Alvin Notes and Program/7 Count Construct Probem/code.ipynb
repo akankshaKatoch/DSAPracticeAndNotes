{
 "cells": [
  {
   "cell_type": "code",
   "execution_count": null,
   "id": "1e79df73",
   "metadata": {},
   "outputs": [
    {
     "name": "stdout",
     "output_type": "stream",
     "text": [
      "1\n",
      "0\n",
      "4\n"
     ]
    },
    {
     "ename": "KeyboardInterrupt",
     "evalue": "",
     "output_type": "error",
     "traceback": [
      "\u001b[1;31m---------------------------------------------------------------------------\u001b[0m",
      "\u001b[1;31mKeyboardInterrupt\u001b[0m                         Traceback (most recent call last)",
      "Cell \u001b[1;32mIn[1], line 19\u001b[0m\n\u001b[0;32m     17\u001b[0m \u001b[38;5;28mprint\u001b[39m(countConstruct(\u001b[38;5;124m\"\u001b[39m\u001b[38;5;124menterpotentpot\u001b[39m\u001b[38;5;124m\"\u001b[39m, [\u001b[38;5;124m'\u001b[39m\u001b[38;5;124ma\u001b[39m\u001b[38;5;124m'\u001b[39m, \u001b[38;5;124m'\u001b[39m\u001b[38;5;124mp\u001b[39m\u001b[38;5;124m'\u001b[39m, \u001b[38;5;124m'\u001b[39m\u001b[38;5;124ment\u001b[39m\u001b[38;5;124m'\u001b[39m, \u001b[38;5;124m'\u001b[39m\u001b[38;5;124menter\u001b[39m\u001b[38;5;124m'\u001b[39m, \u001b[38;5;124m'\u001b[39m\u001b[38;5;124mot\u001b[39m\u001b[38;5;124m'\u001b[39m, \u001b[38;5;124m'\u001b[39m\u001b[38;5;124mo\u001b[39m\u001b[38;5;124m'\u001b[39m, \u001b[38;5;124m'\u001b[39m\u001b[38;5;124mt\u001b[39m\u001b[38;5;124m'\u001b[39m]))\n\u001b[0;32m     18\u001b[0m \u001b[38;5;66;03m# will take long time to run\u001b[39;00m\n\u001b[1;32m---> 19\u001b[0m \u001b[38;5;28mprint\u001b[39m(\u001b[43mcountConstruct\u001b[49m\u001b[43m(\u001b[49m\u001b[38;5;124;43m\"\u001b[39;49m\u001b[38;5;124;43meeeeeeeeeeeeeeeeeeeeeeeeeeeeeeeeeeeeef\u001b[39;49m\u001b[38;5;124;43m\"\u001b[39;49m\u001b[43m,\u001b[49m\u001b[43m \u001b[49m\u001b[43m[\u001b[49m\u001b[38;5;124;43m'\u001b[39;49m\u001b[38;5;124;43me\u001b[39;49m\u001b[38;5;124;43m'\u001b[39;49m\u001b[43m,\u001b[49m\u001b[43m \u001b[49m\u001b[38;5;124;43m'\u001b[39;49m\u001b[38;5;124;43mee\u001b[39;49m\u001b[38;5;124;43m'\u001b[39;49m\u001b[43m,\u001b[49m\u001b[43m \u001b[49m\u001b[38;5;124;43m'\u001b[39;49m\u001b[38;5;124;43meee\u001b[39;49m\u001b[38;5;124;43m'\u001b[39;49m\u001b[43m,\u001b[49m\u001b[43m \u001b[49m\u001b[38;5;124;43m'\u001b[39;49m\u001b[38;5;124;43meeee\u001b[39;49m\u001b[38;5;124;43m'\u001b[39;49m\u001b[43m,\u001b[49m\u001b[43m \u001b[49m\u001b[38;5;124;43m'\u001b[39;49m\u001b[38;5;124;43meeeee\u001b[39;49m\u001b[38;5;124;43m'\u001b[39;49m\u001b[43m]\u001b[49m\u001b[43m)\u001b[49m)\n",
      "Cell \u001b[1;32mIn[1], line 10\u001b[0m, in \u001b[0;36mcountConstruct\u001b[1;34m(target, wordBank)\u001b[0m\n\u001b[0;32m      8\u001b[0m     \u001b[38;5;28;01mif\u001b[39;00m target\u001b[38;5;241m.\u001b[39mfind(word) \u001b[38;5;241m==\u001b[39m \u001b[38;5;241m0\u001b[39m:\n\u001b[0;32m      9\u001b[0m         suffix \u001b[38;5;241m=\u001b[39m target\u001b[38;5;241m.\u001b[39mreplace(word,\u001b[38;5;124m\"\u001b[39m\u001b[38;5;124m\"\u001b[39m, \u001b[38;5;241m1\u001b[39m)\n\u001b[1;32m---> 10\u001b[0m         numways \u001b[38;5;241m=\u001b[39m \u001b[43mcountConstruct\u001b[49m\u001b[43m(\u001b[49m\u001b[43msuffix\u001b[49m\u001b[43m,\u001b[49m\u001b[43m \u001b[49m\u001b[43mwordBank\u001b[49m\u001b[43m)\u001b[49m\n\u001b[0;32m     11\u001b[0m         totalCount \u001b[38;5;241m+\u001b[39m\u001b[38;5;241m=\u001b[39m numways\n\u001b[0;32m     13\u001b[0m \u001b[38;5;28;01mreturn\u001b[39;00m totalCount\n",
      "Cell \u001b[1;32mIn[1], line 10\u001b[0m, in \u001b[0;36mcountConstruct\u001b[1;34m(target, wordBank)\u001b[0m\n\u001b[0;32m      8\u001b[0m     \u001b[38;5;28;01mif\u001b[39;00m target\u001b[38;5;241m.\u001b[39mfind(word) \u001b[38;5;241m==\u001b[39m \u001b[38;5;241m0\u001b[39m:\n\u001b[0;32m      9\u001b[0m         suffix \u001b[38;5;241m=\u001b[39m target\u001b[38;5;241m.\u001b[39mreplace(word,\u001b[38;5;124m\"\u001b[39m\u001b[38;5;124m\"\u001b[39m, \u001b[38;5;241m1\u001b[39m)\n\u001b[1;32m---> 10\u001b[0m         numways \u001b[38;5;241m=\u001b[39m \u001b[43mcountConstruct\u001b[49m\u001b[43m(\u001b[49m\u001b[43msuffix\u001b[49m\u001b[43m,\u001b[49m\u001b[43m \u001b[49m\u001b[43mwordBank\u001b[49m\u001b[43m)\u001b[49m\n\u001b[0;32m     11\u001b[0m         totalCount \u001b[38;5;241m+\u001b[39m\u001b[38;5;241m=\u001b[39m numways\n\u001b[0;32m     13\u001b[0m \u001b[38;5;28;01mreturn\u001b[39;00m totalCount\n",
      "    \u001b[1;31m[... skipping similar frames: countConstruct at line 10 (18 times)]\u001b[0m\n",
      "Cell \u001b[1;32mIn[1], line 10\u001b[0m, in \u001b[0;36mcountConstruct\u001b[1;34m(target, wordBank)\u001b[0m\n\u001b[0;32m      8\u001b[0m     \u001b[38;5;28;01mif\u001b[39;00m target\u001b[38;5;241m.\u001b[39mfind(word) \u001b[38;5;241m==\u001b[39m \u001b[38;5;241m0\u001b[39m:\n\u001b[0;32m      9\u001b[0m         suffix \u001b[38;5;241m=\u001b[39m target\u001b[38;5;241m.\u001b[39mreplace(word,\u001b[38;5;124m\"\u001b[39m\u001b[38;5;124m\"\u001b[39m, \u001b[38;5;241m1\u001b[39m)\n\u001b[1;32m---> 10\u001b[0m         numways \u001b[38;5;241m=\u001b[39m \u001b[43mcountConstruct\u001b[49m\u001b[43m(\u001b[49m\u001b[43msuffix\u001b[49m\u001b[43m,\u001b[49m\u001b[43m \u001b[49m\u001b[43mwordBank\u001b[49m\u001b[43m)\u001b[49m\n\u001b[0;32m     11\u001b[0m         totalCount \u001b[38;5;241m+\u001b[39m\u001b[38;5;241m=\u001b[39m numways\n\u001b[0;32m     13\u001b[0m \u001b[38;5;28;01mreturn\u001b[39;00m totalCount\n",
      "Cell \u001b[1;32mIn[1], line 8\u001b[0m, in \u001b[0;36mcountConstruct\u001b[1;34m(target, wordBank)\u001b[0m\n\u001b[0;32m      6\u001b[0m totalCount \u001b[38;5;241m=\u001b[39m \u001b[38;5;241m0\u001b[39m\n\u001b[0;32m      7\u001b[0m \u001b[38;5;28;01mfor\u001b[39;00m word \u001b[38;5;129;01min\u001b[39;00m wordBank:\n\u001b[1;32m----> 8\u001b[0m     \u001b[38;5;28;01mif\u001b[39;00m target\u001b[38;5;241m.\u001b[39mfind(word) \u001b[38;5;241m==\u001b[39m \u001b[38;5;241m0\u001b[39m:\n\u001b[0;32m      9\u001b[0m         suffix \u001b[38;5;241m=\u001b[39m target\u001b[38;5;241m.\u001b[39mreplace(word,\u001b[38;5;124m\"\u001b[39m\u001b[38;5;124m\"\u001b[39m, \u001b[38;5;241m1\u001b[39m)\n\u001b[0;32m     10\u001b[0m         numways \u001b[38;5;241m=\u001b[39m countConstruct(suffix, wordBank)\n",
      "\u001b[1;31mKeyboardInterrupt\u001b[0m: "
     ]
    }
   ],
   "source": [
    "#using recusrion\n",
    "\n",
    "def countConstruct(target, wordBank):\n",
    "\n",
    "    if target == '': return 1\n",
    "    totalCount = 0\n",
    "    for word in wordBank:\n",
    "        if target.find(word) == 0:\n",
    "            suffix = target.replace(word,\"\", 1)\n",
    "            numways = countConstruct(suffix, wordBank)\n",
    "            totalCount += numways\n",
    "    \n",
    "    return totalCount\n",
    "\n",
    "print(countConstruct(\"abcdef\", ['ab', 'abc', 'cd', 'def', 'abcd']))\n",
    "print(countConstruct(\"skateboard\", ['bo', 'rd', 'ate', 't', 'ska', 'sk', 'boar']))\n",
    "print(countConstruct(\"enterpotentpot\", ['a', 'p', 'ent', 'enter', 'ot', 'o', 't']))\n",
    "# will take long time to run\n",
    "print(countConstruct(\"eeeeeeeeeeeeeeeeeeeeeeeeeeeeeeeeeeeeef\", ['e', 'ee', 'eee', 'eeee', 'eeeee']))"
   ]
  },
  {
   "cell_type": "code",
   "execution_count": 2,
   "id": "253438de",
   "metadata": {},
   "outputs": [
    {
     "name": "stdout",
     "output_type": "stream",
     "text": [
      "1\n",
      "0\n",
      "4\n",
      "0\n"
     ]
    }
   ],
   "source": [
    "# memoization\n",
    "\n",
    "def countConstruct(target, wordBank, memo = None):\n",
    "    if memo is None:\n",
    "        memo = {}\n",
    "    if target in memo:\n",
    "        return memo[target]\n",
    "    \n",
    "    if target == '': return 1\n",
    "    totalCount = 0\n",
    "    for word in wordBank:\n",
    "        if target.find(word) == 0:\n",
    "            suffix = target.replace(word,\"\", 1)\n",
    "            numways = countConstruct(suffix, wordBank, memo)\n",
    "            totalCount += numways\n",
    "    memo[target] = totalCount\n",
    "    return totalCount\n",
    "\n",
    "print(countConstruct(\"abcdef\", ['ab', 'abc', 'cd', 'def', 'abcd']))\n",
    "print(countConstruct(\"skateboard\", ['bo', 'rd', 'ate', 't', 'ska', 'sk', 'boar']))\n",
    "print(countConstruct(\"enterpotentpot\", ['a', 'p', 'ent', 'enter', 'ot', 'o', 't']))\n",
    "# will take long time to run\n",
    "print(countConstruct(\"eeeeeeeeeeeeeeeeeeeeeeeeeeeeeeeeeeeeef\", ['e', 'ee', 'eee', 'eeee', 'eeeee']))\n",
    "        "
   ]
  },
  {
   "cell_type": "code",
   "execution_count": 4,
   "id": "086a05b8",
   "metadata": {},
   "outputs": [
    {
     "name": "stdout",
     "output_type": "stream",
     "text": [
      "2\n",
      "1\n",
      "0\n",
      "4\n",
      "0\n"
     ]
    }
   ],
   "source": [
    "# Tabulation\n",
    "\n",
    "def countConstruct(target, wordBank):\n",
    "    tarSize = len(target)\n",
    "    table = [0] *(tarSize+1)\n",
    "    table[0] = 1\n",
    "\n",
    "    for i in range(tarSize):\n",
    "        if table[i]:\n",
    "            for word in wordBank:\n",
    "                if target[i:i+len(word)] == word:\n",
    "                    table[i+len(word)] += table[i]\n",
    "    return table[len(target)]\n",
    "print(countConstruct(\"purple\", ['purp', 'p', 'ur', 'le', 'purpl']))\n",
    "print(countConstruct(\"abcdef\", ['ab', 'abc', 'cd', 'def', 'abcd']))\n",
    "print(countConstruct(\"skateboard\", ['bo', 'rd', 'ate', 't', 'ska', 'sk', 'boar']))\n",
    "print(countConstruct(\"enterpotentpot\", ['a', 'p', 'ent', 'enter', 'ot', 'o', 't']))\n",
    "# will take long time to run\n",
    "print(countConstruct(\"eeeeeeeeeeeeeeeeeeeeeeeeeeeeeeeeeeeeef\", ['e', 'ee', 'eee', 'eeee', 'eeeee']))"
   ]
  }
 ],
 "metadata": {
  "kernelspec": {
   "display_name": "Python 3",
   "language": "python",
   "name": "python3"
  },
  "language_info": {
   "codemirror_mode": {
    "name": "ipython",
    "version": 3
   },
   "file_extension": ".py",
   "mimetype": "text/x-python",
   "name": "python",
   "nbconvert_exporter": "python",
   "pygments_lexer": "ipython3",
   "version": "3.12.6"
  }
 },
 "nbformat": 4,
 "nbformat_minor": 5
}
