{
 "cells": [
  {
   "cell_type": "code",
   "execution_count": 1,
   "id": "887813be",
   "metadata": {},
   "outputs": [
    {
     "name": "stdout",
     "output_type": "stream",
     "text": [
      "[['abc', 'def']]\n",
      "[]\n",
      "[['enter', 'p', 'ot', 'ent', 'p', 'ot'], ['enter', 'p', 'ot', 'ent', 'p', 'o', 't'], ['enter', 'p', 'o', 't', 'ent', 'p', 'ot'], ['enter', 'p', 'o', 't', 'ent', 'p', 'o', 't']]\n"
     ]
    },
    {
     "ename": "KeyboardInterrupt",
     "evalue": "",
     "output_type": "error",
     "traceback": [
      "\u001b[1;31m---------------------------------------------------------------------------\u001b[0m",
      "\u001b[1;31mKeyboardInterrupt\u001b[0m                         Traceback (most recent call last)",
      "Cell \u001b[1;32mIn[1], line 24\u001b[0m\n\u001b[0;32m     22\u001b[0m \u001b[38;5;28mprint\u001b[39m(allConstruct(\u001b[38;5;124m\"\u001b[39m\u001b[38;5;124menterpotentpot\u001b[39m\u001b[38;5;124m\"\u001b[39m, [\u001b[38;5;124m'\u001b[39m\u001b[38;5;124ma\u001b[39m\u001b[38;5;124m'\u001b[39m, \u001b[38;5;124m'\u001b[39m\u001b[38;5;124mp\u001b[39m\u001b[38;5;124m'\u001b[39m, \u001b[38;5;124m'\u001b[39m\u001b[38;5;124ment\u001b[39m\u001b[38;5;124m'\u001b[39m, \u001b[38;5;124m'\u001b[39m\u001b[38;5;124menter\u001b[39m\u001b[38;5;124m'\u001b[39m, \u001b[38;5;124m'\u001b[39m\u001b[38;5;124mot\u001b[39m\u001b[38;5;124m'\u001b[39m, \u001b[38;5;124m'\u001b[39m\u001b[38;5;124mo\u001b[39m\u001b[38;5;124m'\u001b[39m, \u001b[38;5;124m'\u001b[39m\u001b[38;5;124mt\u001b[39m\u001b[38;5;124m'\u001b[39m]))\n\u001b[0;32m     23\u001b[0m \u001b[38;5;66;03m# will take long time to run\u001b[39;00m\n\u001b[1;32m---> 24\u001b[0m \u001b[38;5;28mprint\u001b[39m(\u001b[43mallConstruct\u001b[49m\u001b[43m(\u001b[49m\u001b[38;5;124;43m\"\u001b[39;49m\u001b[38;5;124;43meeeeeeeeeeeeeeeeeeeeeeeeeeeeeeeeeeeeef\u001b[39;49m\u001b[38;5;124;43m\"\u001b[39;49m\u001b[43m,\u001b[49m\u001b[43m \u001b[49m\u001b[43m[\u001b[49m\u001b[38;5;124;43m'\u001b[39;49m\u001b[38;5;124;43me\u001b[39;49m\u001b[38;5;124;43m'\u001b[39;49m\u001b[43m,\u001b[49m\u001b[43m \u001b[49m\u001b[38;5;124;43m'\u001b[39;49m\u001b[38;5;124;43mee\u001b[39;49m\u001b[38;5;124;43m'\u001b[39;49m\u001b[43m,\u001b[49m\u001b[43m \u001b[49m\u001b[38;5;124;43m'\u001b[39;49m\u001b[38;5;124;43meee\u001b[39;49m\u001b[38;5;124;43m'\u001b[39;49m\u001b[43m,\u001b[49m\u001b[43m \u001b[49m\u001b[38;5;124;43m'\u001b[39;49m\u001b[38;5;124;43meeee\u001b[39;49m\u001b[38;5;124;43m'\u001b[39;49m\u001b[43m,\u001b[49m\u001b[43m \u001b[49m\u001b[38;5;124;43m'\u001b[39;49m\u001b[38;5;124;43meeeee\u001b[39;49m\u001b[38;5;124;43m'\u001b[39;49m\u001b[43m]\u001b[49m\u001b[43m)\u001b[49m)\n",
      "Cell \u001b[1;32mIn[1], line 14\u001b[0m, in \u001b[0;36mallConstruct\u001b[1;34m(target, wordBank)\u001b[0m\n\u001b[0;32m     11\u001b[0m \u001b[38;5;28;01mif\u001b[39;00m target\u001b[38;5;241m.\u001b[39mstartswith(word):\n\u001b[0;32m     12\u001b[0m     \u001b[38;5;66;03m#suffix = target.replace(word,\"\", 1)\u001b[39;00m\n\u001b[0;32m     13\u001b[0m     suffix \u001b[38;5;241m=\u001b[39m target[\u001b[38;5;28mlen\u001b[39m(word):] \n\u001b[1;32m---> 14\u001b[0m     suffixWays \u001b[38;5;241m=\u001b[39m \u001b[43mallConstruct\u001b[49m\u001b[43m(\u001b[49m\u001b[43msuffix\u001b[49m\u001b[43m,\u001b[49m\u001b[43m \u001b[49m\u001b[43mwordBank\u001b[49m\u001b[43m)\u001b[49m\n\u001b[0;32m     15\u001b[0m     targetWays \u001b[38;5;241m=\u001b[39m [ [word] \u001b[38;5;241m+\u001b[39m way \u001b[38;5;28;01mfor\u001b[39;00m way \u001b[38;5;129;01min\u001b[39;00m suffixWays ]\n\u001b[0;32m     16\u001b[0m     finalList\u001b[38;5;241m.\u001b[39mextend(targetWays)\n",
      "Cell \u001b[1;32mIn[1], line 14\u001b[0m, in \u001b[0;36mallConstruct\u001b[1;34m(target, wordBank)\u001b[0m\n\u001b[0;32m     11\u001b[0m \u001b[38;5;28;01mif\u001b[39;00m target\u001b[38;5;241m.\u001b[39mstartswith(word):\n\u001b[0;32m     12\u001b[0m     \u001b[38;5;66;03m#suffix = target.replace(word,\"\", 1)\u001b[39;00m\n\u001b[0;32m     13\u001b[0m     suffix \u001b[38;5;241m=\u001b[39m target[\u001b[38;5;28mlen\u001b[39m(word):] \n\u001b[1;32m---> 14\u001b[0m     suffixWays \u001b[38;5;241m=\u001b[39m \u001b[43mallConstruct\u001b[49m\u001b[43m(\u001b[49m\u001b[43msuffix\u001b[49m\u001b[43m,\u001b[49m\u001b[43m \u001b[49m\u001b[43mwordBank\u001b[49m\u001b[43m)\u001b[49m\n\u001b[0;32m     15\u001b[0m     targetWays \u001b[38;5;241m=\u001b[39m [ [word] \u001b[38;5;241m+\u001b[39m way \u001b[38;5;28;01mfor\u001b[39;00m way \u001b[38;5;129;01min\u001b[39;00m suffixWays ]\n\u001b[0;32m     16\u001b[0m     finalList\u001b[38;5;241m.\u001b[39mextend(targetWays)\n",
      "    \u001b[1;31m[... skipping similar frames: allConstruct at line 14 (21 times)]\u001b[0m\n",
      "Cell \u001b[1;32mIn[1], line 14\u001b[0m, in \u001b[0;36mallConstruct\u001b[1;34m(target, wordBank)\u001b[0m\n\u001b[0;32m     11\u001b[0m \u001b[38;5;28;01mif\u001b[39;00m target\u001b[38;5;241m.\u001b[39mstartswith(word):\n\u001b[0;32m     12\u001b[0m     \u001b[38;5;66;03m#suffix = target.replace(word,\"\", 1)\u001b[39;00m\n\u001b[0;32m     13\u001b[0m     suffix \u001b[38;5;241m=\u001b[39m target[\u001b[38;5;28mlen\u001b[39m(word):] \n\u001b[1;32m---> 14\u001b[0m     suffixWays \u001b[38;5;241m=\u001b[39m \u001b[43mallConstruct\u001b[49m\u001b[43m(\u001b[49m\u001b[43msuffix\u001b[49m\u001b[43m,\u001b[49m\u001b[43m \u001b[49m\u001b[43mwordBank\u001b[49m\u001b[43m)\u001b[49m\n\u001b[0;32m     15\u001b[0m     targetWays \u001b[38;5;241m=\u001b[39m [ [word] \u001b[38;5;241m+\u001b[39m way \u001b[38;5;28;01mfor\u001b[39;00m way \u001b[38;5;129;01min\u001b[39;00m suffixWays ]\n\u001b[0;32m     16\u001b[0m     finalList\u001b[38;5;241m.\u001b[39mextend(targetWays)\n",
      "Cell \u001b[1;32mIn[1], line 16\u001b[0m, in \u001b[0;36mallConstruct\u001b[1;34m(target, wordBank)\u001b[0m\n\u001b[0;32m     14\u001b[0m         suffixWays \u001b[38;5;241m=\u001b[39m allConstruct(suffix, wordBank)\n\u001b[0;32m     15\u001b[0m         targetWays \u001b[38;5;241m=\u001b[39m [ [word] \u001b[38;5;241m+\u001b[39m way \u001b[38;5;28;01mfor\u001b[39;00m way \u001b[38;5;129;01min\u001b[39;00m suffixWays ]\n\u001b[1;32m---> 16\u001b[0m         finalList\u001b[38;5;241m.\u001b[39mextend(targetWays)\n\u001b[0;32m     18\u001b[0m \u001b[38;5;28;01mreturn\u001b[39;00m finalList\n",
      "\u001b[1;31mKeyboardInterrupt\u001b[0m: "
     ]
    }
   ],
   "source": [
    "# recusrion\n",
    "\n",
    "def allConstruct(target, wordBank):\n",
    "\n",
    "    if target == '': return [[]]\n",
    "\n",
    "    finalList = []\n",
    "\n",
    "    for word in wordBank:\n",
    "        #if target.find(word) == 0:\n",
    "        if target.startswith(word):\n",
    "            #suffix = target.replace(word,\"\", 1)\n",
    "            suffix = target[len(word):] \n",
    "            suffixWays = allConstruct(suffix, wordBank)\n",
    "            targetWays = [ [word] + way for way in suffixWays ]\n",
    "            finalList.extend(targetWays)\n",
    "\n",
    "    return finalList\n",
    "\n",
    "print(allConstruct(\"abcdef\", ['ab', 'abc', 'cd', 'def', 'abcd']))\n",
    "print(allConstruct(\"skateboard\", ['bo', 'rd', 'ate', 't', 'ska', 'sk', 'boar']))\n",
    "print(allConstruct(\"enterpotentpot\", ['a', 'p', 'ent', 'enter', 'ot', 'o', 't']))\n",
    "# will take long time to run\n",
    "print(allConstruct(\"eeeeeeeeeeeeeeeeeeeeeeeeeeeeeeeeeeeeef\", ['e', 'ee', 'eee', 'eeee', 'eeeee']))\n",
    "        "
   ]
  },
  {
   "cell_type": "code",
   "execution_count": null,
   "id": "1d7c3417",
   "metadata": {},
   "outputs": [
    {
     "name": "stdout",
     "output_type": "stream",
     "text": [
      "[['abc', 'def']]\n",
      "[]\n",
      "[['enter', 'p', 'ot', 'ent', 'p', 'ot'], ['enter', 'p', 'ot', 'ent', 'p', 'o', 't'], ['enter', 'p', 'o', 't', 'ent', 'p', 'ot'], ['enter', 'p', 'o', 't', 'ent', 'p', 'o', 't']]\n"
     ]
    }
   ],
   "source": [
    "# Dynamic Programming Memoization\n",
    "def allConstruct(target, wordBank, memo = None):\n",
    "    if memo == None:\n",
    "        memo = {}\n",
    "    if target in memo:\n",
    "        return memo[target]\n",
    "    if target == '': return [[]]\n",
    "\n",
    "    finalList = []\n",
    "\n",
    "    for word in wordBank:\n",
    "        #if target.find(word) == 0:\n",
    "        if target.startswith(word):\n",
    "            #suffix = target.replace(word,\"\", 1)\n",
    "            suffix = target[len(word):] \n",
    "            suffixWays = allConstruct(suffix, wordBank, memo)\n",
    "            targetWays = [ [word] + way for way in suffixWays ]\n",
    "            finalList.extend(targetWays)\n",
    "    memo[target] = finalList\n",
    "    return finalList\n",
    "\n",
    "print(allConstruct(\"abcdef\", ['ab', 'abc', 'cd', 'def', 'abcd']))\n",
    "print(allConstruct(\"skateboard\", ['bo', 'rd', 'ate', 't', 'ska', 'sk', 'boar']))\n",
    "print(allConstruct(\"enterpotentpot\", ['a', 'p', 'ent', 'enter', 'ot', 'o', 't']))\n",
    "# will take long time to run\n",
    "print(allConstruct(\"eeeeeeeeeeeeeeeeeeeeeeeeeeeeeeeeeeeee\", ['e', 'ee', 'eee', 'eeee', 'eeeee']))\n",
    "        \n"
   ]
  },
  {
   "cell_type": "code",
   "execution_count": 11,
   "id": "d600775c",
   "metadata": {},
   "outputs": [
    {
     "name": "stdout",
     "output_type": "stream",
     "text": [
      "[['abc', 'def']]\n",
      "[]\n",
      "[['enter', 'p', 'ot', 'ent', 'p', 'ot'], ['enter', 'p', 'o', 't', 'ent', 'p', 'ot'], ['enter', 'p', 'ot', 'ent', 'p', 'o', 't'], ['enter', 'p', 'o', 't', 'ent', 'p', 'o', 't']]\n",
      "[]\n"
     ]
    }
   ],
   "source": [
    "# Dynamic Programming tabulation\n",
    "def allConstruct(target, wordBank):\n",
    "    table = [[] for _ in range(len(target)+1)]\n",
    "    table[0] = [[]] \n",
    "    #print(table)\n",
    "\n",
    "    for i in range(len(target)):\n",
    "        #if table[i] \n",
    "        for word in wordBank:\n",
    "            if target[i:i+len(word)] == word:\n",
    "                newList = [sub + [word] for sub in table[i]]\n",
    "                table[i+len(word)].extend(newList)\n",
    "\n",
    "\n",
    "    \n",
    "    return table[len(target)]\n",
    "\n",
    "print(allConstruct(\"abcdef\", ['ab', 'abc', 'cd', 'def', 'abcd']))\n",
    "print(allConstruct(\"skateboard\", ['bo', 'rd', 'ate', 't', 'ska', 'sk', 'boar']))\n",
    "print(allConstruct(\"enterpotentpot\", ['a', 'p', 'ent', 'enter', 'ot', 'o', 't']))\n",
    "# will take long time to run\n",
    "print(allConstruct(\"eeeeeeeeeeeef\", ['e', 'ee', 'eee', 'eeee', 'eeeee']))\n",
    "        \n"
   ]
  }
 ],
 "metadata": {
  "kernelspec": {
   "display_name": "Python 3",
   "language": "python",
   "name": "python3"
  },
  "language_info": {
   "codemirror_mode": {
    "name": "ipython",
    "version": 3
   },
   "file_extension": ".py",
   "mimetype": "text/x-python",
   "name": "python",
   "nbconvert_exporter": "python",
   "pygments_lexer": "ipython3",
   "version": "3.12.6"
  }
 },
 "nbformat": 4,
 "nbformat_minor": 5
}
