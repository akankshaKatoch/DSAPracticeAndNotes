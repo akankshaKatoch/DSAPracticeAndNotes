{
 "cells": [
  {
   "cell_type": "code",
   "execution_count": 1,
   "id": "7efd8047",
   "metadata": {},
   "outputs": [
    {
     "name": "stdout",
     "output_type": "stream",
     "text": [
      "7\n",
      "[7, 5, 3, 2, 1]\n"
     ]
    }
   ],
   "source": [
    "import heapq\n",
    "\n",
    "h = []\n",
    "for x in [5, 1, 3, 7, 2]:\n",
    "    heapq.heappush(h, -x)\n",
    "\n",
    "print(-h[0])                     # -> 7  (max element of original values)\n",
    "print([-heapq.heappop(h) for _ in range(len(h))])\n",
    "# -> [7, 5, 3, 2, 1]  (pops in descending order)"
   ]
  },
  {
   "cell_type": "code",
   "execution_count": 2,
   "id": "bbdcd2b4",
   "metadata": {},
   "outputs": [
    {
     "name": "stdout",
     "output_type": "stream",
     "text": [
      "(-3, 1)\n"
     ]
    }
   ],
   "source": [
    "import heapq\n",
    "from collections import Counter\n",
    "\n",
    "counts = Counter([1,1,1,2,2,3])   # {1:3, 2:2, 3:1}\n",
    "heap = [(-freq, num) for num, freq in counts.items()]\n",
    "heapq.heapify(heap)\n",
    "\n",
    "print(heap[0])   # -> (-3, 1)   (most frequent: 1 with freq 3)\n",
    "# pop k times to get top-k by frequency:\n",
    "top_k = [heapq.heappop(heap)[1] for _ in range(2)]   # -> [1, 2]\n"
   ]
  },
  {
   "cell_type": "markdown",
   "id": "ae84ae86",
   "metadata": {},
   "source": [
    "Notes:\n",
    "\n",
    "The internal list h is not fully sorted; only h[0] is guaranteed to be the min (or, with negatives, corresponds to the max of original values).\n",
    "\n",
    "Parent ≤ children for a min-heap; that’s the only invariant."
   ]
  }
 ],
 "metadata": {
  "kernelspec": {
   "display_name": "Python 3",
   "language": "python",
   "name": "python3"
  },
  "language_info": {
   "codemirror_mode": {
    "name": "ipython",
    "version": 3
   },
   "file_extension": ".py",
   "mimetype": "text/x-python",
   "name": "python",
   "nbconvert_exporter": "python",
   "pygments_lexer": "ipython3",
   "version": "3.12.6"
  }
 },
 "nbformat": 4,
 "nbformat_minor": 5
}
