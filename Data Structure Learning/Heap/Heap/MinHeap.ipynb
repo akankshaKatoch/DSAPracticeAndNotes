{
 "cells": [
  {
   "cell_type": "code",
   "execution_count": 1,
   "id": "beb60baf",
   "metadata": {},
   "outputs": [
    {
     "name": "stdout",
     "output_type": "stream",
     "text": [
      "1\n",
      "[1, 2, 3, 5, 7]\n"
     ]
    }
   ],
   "source": [
    "import heapq\n",
    "\n",
    "h = []\n",
    "for x in [5, 1, 3, 7, 2]:\n",
    "    heapq.heappush(h, x)\n",
    "\n",
    "print(h[0])                      # -> 1  (min element)\n",
    "print([heapq.heappop(h) for _ in range(len(h))])\n",
    "# -> [1, 2, 3, 5, 7]  (pops in ascending order)"
   ]
  },
  {
   "cell_type": "code",
   "execution_count": null,
   "id": "a8dd21c8",
   "metadata": {},
   "outputs": [],
   "source": [
    "class minHeap:\n",
    "    # Index:  [0, 1, 2, 3, 4, 5]\n",
    "    # Value: [3, 8, 5, 10, 9, 7]\n",
    "    \"\"\"\n",
    "    Tree Representation:\n",
    "        3\n",
    "       / \\\n",
    "      8   5\n",
    "     / \\ /\n",
    "    10 9 7\n",
    "\n",
    "    #main \n",
    "    \"\"\"\n",
    "\n",
    "    def __init__(self):\n",
    "        self.heap = []\n",
    "    \n",
    "    def parent(self, i):\n",
    "        return (i-1)//2\n",
    "    \n",
    "    def right_child(self, i):\n",
    "        return 2*i + 2\n",
    "    \n",
    "    def left_child(self, i):\n",
    "        return 2*i + 1\n",
    "    \n",
    "    def insert(self, key):\n",
    "        self.key.append(key)\n",
    "\n",
    "    #def heapify(self, i):\n",
    "        "
   ]
  }
 ],
 "metadata": {
  "kernelspec": {
   "display_name": "Python 3",
   "language": "python",
   "name": "python3"
  },
  "language_info": {
   "codemirror_mode": {
    "name": "ipython",
    "version": 3
   },
   "file_extension": ".py",
   "mimetype": "text/x-python",
   "name": "python",
   "nbconvert_exporter": "python",
   "pygments_lexer": "ipython3",
   "version": "3.12.6"
  }
 },
 "nbformat": 4,
 "nbformat_minor": 5
}
