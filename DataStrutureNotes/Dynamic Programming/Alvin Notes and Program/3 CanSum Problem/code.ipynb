{
 "cells": [
  {
   "cell_type": "code",
   "execution_count": 2,
   "id": "be03bee2",
   "metadata": {},
   "outputs": [
    {
     "name": "stdout",
     "output_type": "stream",
     "text": [
      "True\n",
      "True\n",
      "False\n",
      "True\n"
     ]
    },
    {
     "ename": "KeyboardInterrupt",
     "evalue": "",
     "output_type": "error",
     "traceback": [
      "\u001b[1;31m---------------------------------------------------------------------------\u001b[0m",
      "\u001b[1;31mKeyboardInterrupt\u001b[0m                         Traceback (most recent call last)",
      "Cell \u001b[1;32mIn[2], line 19\u001b[0m\n\u001b[0;32m     17\u001b[0m \u001b[38;5;28mprint\u001b[39m(canSum(\u001b[38;5;241m7\u001b[39m, [\u001b[38;5;241m2\u001b[39m,\u001b[38;5;241m4\u001b[39m]))\n\u001b[0;32m     18\u001b[0m \u001b[38;5;28mprint\u001b[39m(canSum(\u001b[38;5;241m8\u001b[39m, [\u001b[38;5;241m2\u001b[39m,\u001b[38;5;241m3\u001b[39m, \u001b[38;5;241m5\u001b[39m]))\n\u001b[1;32m---> 19\u001b[0m \u001b[38;5;28mprint\u001b[39m(\u001b[43mcanSum\u001b[49m\u001b[43m(\u001b[49m\u001b[38;5;241;43m300\u001b[39;49m\u001b[43m,\u001b[49m\u001b[43m \u001b[49m\u001b[43m[\u001b[49m\u001b[38;5;241;43m7\u001b[39;49m\u001b[43m,\u001b[49m\u001b[38;5;241;43m14\u001b[39;49m\u001b[43m]\u001b[49m\u001b[43m)\u001b[49m)\n",
      "Cell \u001b[1;32mIn[2], line 11\u001b[0m, in \u001b[0;36mcanSum\u001b[1;34m(targetSum, nums)\u001b[0m\n\u001b[0;32m      8\u001b[0m \u001b[38;5;28;01mfor\u001b[39;00m n \u001b[38;5;129;01min\u001b[39;00m nums:\n\u001b[0;32m      9\u001b[0m     \u001b[38;5;66;03m#print(n)\u001b[39;00m\n\u001b[0;32m     10\u001b[0m     reminder \u001b[38;5;241m=\u001b[39m targetSum \u001b[38;5;241m-\u001b[39m n\n\u001b[1;32m---> 11\u001b[0m     \u001b[38;5;28;01mif\u001b[39;00m (\u001b[43mcanSum\u001b[49m\u001b[43m(\u001b[49m\u001b[43mreminder\u001b[49m\u001b[43m,\u001b[49m\u001b[43m \u001b[49m\u001b[43mnums\u001b[49m\u001b[43m)\u001b[49m \u001b[38;5;241m==\u001b[39m \u001b[38;5;28;01mTrue\u001b[39;00m):\n\u001b[0;32m     12\u001b[0m         \u001b[38;5;28;01mreturn\u001b[39;00m \u001b[38;5;28;01mTrue\u001b[39;00m\n\u001b[0;32m     13\u001b[0m \u001b[38;5;28;01mreturn\u001b[39;00m \u001b[38;5;28;01mFalse\u001b[39;00m\n",
      "Cell \u001b[1;32mIn[2], line 11\u001b[0m, in \u001b[0;36mcanSum\u001b[1;34m(targetSum, nums)\u001b[0m\n\u001b[0;32m      8\u001b[0m \u001b[38;5;28;01mfor\u001b[39;00m n \u001b[38;5;129;01min\u001b[39;00m nums:\n\u001b[0;32m      9\u001b[0m     \u001b[38;5;66;03m#print(n)\u001b[39;00m\n\u001b[0;32m     10\u001b[0m     reminder \u001b[38;5;241m=\u001b[39m targetSum \u001b[38;5;241m-\u001b[39m n\n\u001b[1;32m---> 11\u001b[0m     \u001b[38;5;28;01mif\u001b[39;00m (\u001b[43mcanSum\u001b[49m\u001b[43m(\u001b[49m\u001b[43mreminder\u001b[49m\u001b[43m,\u001b[49m\u001b[43m \u001b[49m\u001b[43mnums\u001b[49m\u001b[43m)\u001b[49m \u001b[38;5;241m==\u001b[39m \u001b[38;5;28;01mTrue\u001b[39;00m):\n\u001b[0;32m     12\u001b[0m         \u001b[38;5;28;01mreturn\u001b[39;00m \u001b[38;5;28;01mTrue\u001b[39;00m\n\u001b[0;32m     13\u001b[0m \u001b[38;5;28;01mreturn\u001b[39;00m \u001b[38;5;28;01mFalse\u001b[39;00m\n",
      "    \u001b[1;31m[... skipping similar frames: canSum at line 11 (29 times)]\u001b[0m\n",
      "Cell \u001b[1;32mIn[2], line 11\u001b[0m, in \u001b[0;36mcanSum\u001b[1;34m(targetSum, nums)\u001b[0m\n\u001b[0;32m      8\u001b[0m \u001b[38;5;28;01mfor\u001b[39;00m n \u001b[38;5;129;01min\u001b[39;00m nums:\n\u001b[0;32m      9\u001b[0m     \u001b[38;5;66;03m#print(n)\u001b[39;00m\n\u001b[0;32m     10\u001b[0m     reminder \u001b[38;5;241m=\u001b[39m targetSum \u001b[38;5;241m-\u001b[39m n\n\u001b[1;32m---> 11\u001b[0m     \u001b[38;5;28;01mif\u001b[39;00m (\u001b[43mcanSum\u001b[49m\u001b[43m(\u001b[49m\u001b[43mreminder\u001b[49m\u001b[43m,\u001b[49m\u001b[43m \u001b[49m\u001b[43mnums\u001b[49m\u001b[43m)\u001b[49m \u001b[38;5;241m==\u001b[39m \u001b[38;5;28;01mTrue\u001b[39;00m):\n\u001b[0;32m     12\u001b[0m         \u001b[38;5;28;01mreturn\u001b[39;00m \u001b[38;5;28;01mTrue\u001b[39;00m\n\u001b[0;32m     13\u001b[0m \u001b[38;5;28;01mreturn\u001b[39;00m \u001b[38;5;28;01mFalse\u001b[39;00m\n",
      "Cell \u001b[1;32mIn[2], line 1\u001b[0m, in \u001b[0;36mcanSum\u001b[1;34m(targetSum, nums)\u001b[0m\n\u001b[1;32m----> 1\u001b[0m \u001b[38;5;28;01mdef\u001b[39;00m \u001b[38;5;21mcanSum\u001b[39m(targetSum, nums):\n\u001b[0;32m      2\u001b[0m     \u001b[38;5;28;01mif\u001b[39;00m (targetSum \u001b[38;5;241m==\u001b[39m \u001b[38;5;241m0\u001b[39m):\n\u001b[0;32m      3\u001b[0m         \u001b[38;5;28;01mreturn\u001b[39;00m \u001b[38;5;28;01mTrue\u001b[39;00m\n",
      "\u001b[1;31mKeyboardInterrupt\u001b[0m: "
     ]
    }
   ],
   "source": [
    "# using recursion\n",
    "def canSum(targetSum, nums):\n",
    "    if (targetSum == 0):\n",
    "        return True\n",
    "    \n",
    "    if targetSum<0:\n",
    "        return False\n",
    "    \n",
    "    for n in nums:\n",
    "        #print(n)\n",
    "        reminder = targetSum - n\n",
    "        if (canSum(reminder, nums) == True):\n",
    "            return True\n",
    "    return False\n",
    "\n",
    "print(canSum(7, [2,3]))\n",
    "print(canSum(7, [5,3,4,7]))\n",
    "print(canSum(7, [2,4]))\n",
    "print(canSum(8, [2,3, 5]))\n",
    "print(canSum(300, [7,14]))\n",
    "    \n"
   ]
  },
  {
   "cell_type": "code",
   "execution_count": 8,
   "id": "b6adbedd",
   "metadata": {},
   "outputs": [
    {
     "name": "stdout",
     "output_type": "stream",
     "text": [
      "True\n",
      "True\n",
      "False\n",
      "True\n",
      "False\n"
     ]
    }
   ],
   "source": [
    "#using Dynamic Programming.\n",
    "def canSum(targetSum, nums, total_memo = None):\n",
    "    if total_memo is None:\n",
    "        total_memo = {}\n",
    "    if targetSum in total_memo:\n",
    "        return total_memo[targetSum]\n",
    "    if (targetSum == 0):\n",
    "        return True\n",
    "    \n",
    "    if targetSum<0:\n",
    "        return False\n",
    "    \n",
    "    for n in nums:\n",
    "        #print(n)\n",
    "        reminder = targetSum - n\n",
    "        if (canSum(reminder, nums, total_memo) == True):\n",
    "            total_memo[targetSum] = True\n",
    "            return True\n",
    "    total_memo[targetSum] = False\n",
    "    return False\n",
    "\n",
    "print(canSum(7, [2,3]))\n",
    "print(canSum(7, [5,3,4,7]))\n",
    "print(canSum(7, [2,4]))\n",
    "print(canSum(8, [2,3, 5]))\n",
    "print(canSum(300, [7,14]))\n"
   ]
  },
  {
   "cell_type": "code",
   "execution_count": null,
   "id": "20e40bba",
   "metadata": {},
   "outputs": [],
   "source": [
    "# Using Dynamic Programming.\n",
    "# This solution didnt worked as Python mutable default argument bug. \n",
    "# The issue is that total_memo = {} as a default argument persists across function calls, \n",
    "# meaning previous results are \"remembered\" even when they shouldn't be.\n",
    "def canSum(targetSum, nums, total_memo = {}):\n",
    "    if targetSum in total_memo:\n",
    "        return total_memo[targetSum]\n",
    "    if (targetSum == 0):\n",
    "        return True\n",
    "    \n",
    "    if targetSum<0:\n",
    "        return False\n",
    "    \n",
    "    for n in nums:\n",
    "        #print(n)\n",
    "        reminder = targetSum - n\n",
    "        if (canSum(reminder, nums, total_memo) == True):\n",
    "            total_memo[targetSum] = True\n",
    "            return True\n",
    "    total_memo[targetSum] = False\n",
    "    return False"
   ]
  },
  {
   "cell_type": "code",
   "execution_count": 10,
   "id": "a1739640",
   "metadata": {},
   "outputs": [
    {
     "name": "stdout",
     "output_type": "stream",
     "text": [
      "True\n",
      "True\n",
      "False\n",
      "True\n",
      "False\n"
     ]
    }
   ],
   "source": [
    "# Tabulation \n",
    "\n",
    "def canSum(targatSum, nums):\n",
    "    # define the table\n",
    "    table = [False] * (targatSum+1)\n",
    "    # seed intialisation \n",
    "    table[0] = True\n",
    "\n",
    "    for i in range(targatSum+1):\n",
    "        \n",
    "        if table[i] == True:\n",
    "            for n in nums:\n",
    "                if i+n<= targatSum:\n",
    "                    table[i+n] = True\n",
    "\n",
    "    return table[targatSum]\n",
    "\n",
    "print(canSum(7, [2,3]))\n",
    "print(canSum(7, [5,3,4,7]))\n",
    "print(canSum(7, [2,4]))\n",
    "print(canSum(8, [2,3, 5]))\n",
    "print(canSum(300, [7,14]))"
   ]
  }
 ],
 "metadata": {
  "kernelspec": {
   "display_name": "Python 3",
   "language": "python",
   "name": "python3"
  },
  "language_info": {
   "codemirror_mode": {
    "name": "ipython",
    "version": 3
   },
   "file_extension": ".py",
   "mimetype": "text/x-python",
   "name": "python",
   "nbconvert_exporter": "python",
   "pygments_lexer": "ipython3",
   "version": "3.12.6"
  }
 },
 "nbformat": 4,
 "nbformat_minor": 5
}
