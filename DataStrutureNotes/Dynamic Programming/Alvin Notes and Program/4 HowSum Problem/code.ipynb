{
 "cells": [
  {
   "cell_type": "code",
   "execution_count": 9,
   "id": "0da84acc",
   "metadata": {},
   "outputs": [
    {
     "name": "stdout",
     "output_type": "stream",
     "text": [
      "[3, 2, 2]\n",
      "[4, 3]\n",
      "None\n",
      "[2, 2, 2, 2]\n"
     ]
    }
   ],
   "source": [
    "#Recursion\n",
    "\n",
    "def howSum(target, nums):\n",
    "    if target == 0: return []\n",
    "    if target < 0: return None\n",
    "\n",
    "    for n in nums:\n",
    "        remainder = target - n\n",
    "        #print(remainder)\n",
    "        remainder_result = howSum(remainder, nums)\n",
    "\n",
    "        if remainder_result is not None:\n",
    "            remainder_result.append(n)\n",
    "            return remainder_result\n",
    "    return None\n",
    "        \n",
    "print(howSum(7, [2,3]))\n",
    "print(howSum(7, [5,3,4,7]))\n",
    "print(howSum(7, [2,4]))\n",
    "print(howSum(8, [2,3,5]))\n",
    "#print(howSum(300, [2,3,5]))\n",
    "\n"
   ]
  },
  {
   "cell_type": "code",
   "execution_count": 11,
   "id": "ed28c453",
   "metadata": {},
   "outputs": [
    {
     "name": "stdout",
     "output_type": "stream",
     "text": [
      "[3, 2, 2]\n",
      "[4, 3]\n",
      "None\n",
      "[2, 2, 2, 2]\n",
      "[2, 2, 2, 2, 2, 2, 2, 2, 2, 2, 2, 2, 2, 2, 2, 2, 2, 2, 2, 2, 2, 2, 2, 2, 2, 2, 2, 2, 2, 2, 2, 2, 2, 2, 2, 2, 2, 2, 2, 2, 2, 2, 2, 2, 2, 2, 2, 2, 2, 2, 2, 2, 2, 2, 2, 2, 2, 2, 2, 2, 2, 2, 2, 2, 2, 2, 2, 2, 2, 2, 2, 2, 2, 2, 2, 2, 2, 2, 2, 2, 2, 2, 2, 2, 2, 2, 2, 2, 2, 2, 2, 2, 2, 2, 2, 2, 2, 2, 2, 2, 2, 2, 2, 2, 2, 2, 2, 2, 2, 2, 2, 2, 2, 2, 2, 2, 2, 2, 2, 2, 2, 2, 2, 2, 2, 2, 2, 2, 2, 2, 2, 2, 2, 2, 2, 2, 2, 2, 2, 2, 2, 2, 2, 2, 2, 2, 2, 2, 2, 2]\n"
     ]
    }
   ],
   "source": [
    "# Dynamic Programming Memoization. \n",
    "\n",
    "def howSum(target, nums, memo = None):\n",
    "    if memo is None:\n",
    "        memo = {}\n",
    "    if target in memo: return memo[target]\n",
    "    if target == 0: return []\n",
    "    if target < 0: return None\n",
    "\n",
    "    for n in nums:\n",
    "        remainder = target - n\n",
    "        #print(remainder)\n",
    "        remainder_result = howSum(remainder, nums, memo)\n",
    "\n",
    "        if remainder_result is not None:\n",
    "            remainder_result.append(n)\n",
    "            memo[target] = remainder_result\n",
    "            return memo[target]\n",
    "    memo[target] = None\n",
    "    return None\n",
    "\n",
    "print(howSum(7, [2,3]))\n",
    "print(howSum(7, [5,3,4,7]))\n",
    "print(howSum(7, [2,4]))\n",
    "print(howSum(8, [2,3,5]))\n",
    "print(howSum(300, [2,14]))"
   ]
  },
  {
   "cell_type": "code",
   "execution_count": 8,
   "id": "f2edb5f7",
   "metadata": {},
   "outputs": [
    {
     "name": "stdout",
     "output_type": "stream",
     "text": [
      "[3, 2, 2]\n",
      "[4, 3]\n",
      "None\n",
      "[2, 2, 2, 2]\n",
      "[2, 2, 2, 2, 2, 2, 2, 2, 2, 2, 2, 2, 2, 2, 2, 2, 2, 2, 2, 2, 2, 2, 2, 2, 2, 2, 2, 2, 2, 2, 2, 2, 2, 2, 2, 2, 2, 2, 2, 2, 2, 2, 2, 2, 2, 2, 2, 2, 2, 2, 2, 2, 2, 2, 2, 2, 2, 2, 2, 2, 2, 2, 2, 2, 2, 2, 2, 2, 2, 2, 2, 2, 2, 2, 2, 2, 2, 2, 2, 2, 2, 2, 2, 2, 2, 2, 2, 2, 2, 2, 2, 2, 2, 2, 2, 2, 2, 2, 2, 2, 2, 2, 2, 2, 2, 2, 2, 2, 2, 2, 2, 2, 2, 2, 2, 2, 2, 2, 2, 2, 2, 2, 2, 2, 2, 2, 2, 2, 2, 2, 2, 2, 2, 2, 2, 2, 2, 2, 2, 2, 2, 2, 2, 2, 2, 2, 2, 2, 2, 2]\n"
     ]
    }
   ],
   "source": [
    "# using tabulation \n",
    "def howSum(target, nums):\n",
    "    table = [None] * (target+1)\n",
    "    table[0] = []\n",
    "\n",
    "    for i in range(target+1):\n",
    "        if table[i] is not None:\n",
    "            for n in nums:\n",
    "                if i+n<=target:\n",
    "                    new_list = table[i] + [n]\n",
    "                    table[i+n] = new_list\n",
    "\n",
    "    return table[target]\n",
    "\n",
    "print(howSum(7, [2,3]))\n",
    "print(howSum(7, [5,3,4,7]))\n",
    "print(howSum(7, [2,4]))\n",
    "print(howSum(8, [2,3,5]))\n",
    "print(howSum(300, [2,14]))"
   ]
  }
 ],
 "metadata": {
  "kernelspec": {
   "display_name": "Python 3",
   "language": "python",
   "name": "python3"
  },
  "language_info": {
   "codemirror_mode": {
    "name": "ipython",
    "version": 3
   },
   "file_extension": ".py",
   "mimetype": "text/x-python",
   "name": "python",
   "nbconvert_exporter": "python",
   "pygments_lexer": "ipython3",
   "version": "3.12.6"
  }
 },
 "nbformat": 4,
 "nbformat_minor": 5
}
