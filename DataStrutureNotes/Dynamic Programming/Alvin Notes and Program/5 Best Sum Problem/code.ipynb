{
 "cells": [
  {
   "cell_type": "code",
   "execution_count": 7,
   "id": "25efef67",
   "metadata": {},
   "outputs": [
    {
     "name": "stdout",
     "output_type": "stream",
     "text": [
      "[7]\n",
      "[5, 3]\n",
      "[4, 4]\n"
     ]
    },
    {
     "ename": "KeyboardInterrupt",
     "evalue": "",
     "output_type": "error",
     "traceback": [
      "\u001b[1;31m---------------------------------------------------------------------------\u001b[0m",
      "\u001b[1;31mKeyboardInterrupt\u001b[0m                         Traceback (most recent call last)",
      "Cell \u001b[1;32mIn[7], line 25\u001b[0m\n\u001b[0;32m     23\u001b[0m \u001b[38;5;28mprint\u001b[39m(bestSum(\u001b[38;5;241m8\u001b[39m, [\u001b[38;5;241m2\u001b[39m,\u001b[38;5;241m3\u001b[39m, \u001b[38;5;241m5\u001b[39m]))\n\u001b[0;32m     24\u001b[0m \u001b[38;5;28mprint\u001b[39m(bestSum(\u001b[38;5;241m8\u001b[39m, [\u001b[38;5;241m1\u001b[39m,\u001b[38;5;241m4\u001b[39m, \u001b[38;5;241m5\u001b[39m]))\n\u001b[1;32m---> 25\u001b[0m \u001b[38;5;28mprint\u001b[39m(\u001b[43mbestSum\u001b[49m\u001b[43m(\u001b[49m\u001b[38;5;241;43m100\u001b[39;49m\u001b[43m,\u001b[49m\u001b[43m \u001b[49m\u001b[43m[\u001b[49m\u001b[38;5;241;43m1\u001b[39;49m\u001b[43m,\u001b[49m\u001b[43m \u001b[49m\u001b[38;5;241;43m2\u001b[39;49m\u001b[43m,\u001b[49m\u001b[38;5;241;43m5\u001b[39;49m\u001b[43m,\u001b[49m\u001b[43m \u001b[49m\u001b[38;5;241;43m25\u001b[39;49m\u001b[43m]\u001b[49m\u001b[43m)\u001b[49m)\n",
      "Cell \u001b[1;32mIn[7], line 10\u001b[0m, in \u001b[0;36mbestSum\u001b[1;34m(targetSum, nums)\u001b[0m\n\u001b[0;32m      8\u001b[0m \u001b[38;5;28;01mfor\u001b[39;00m n \u001b[38;5;129;01min\u001b[39;00m nums:\n\u001b[0;32m      9\u001b[0m     remainder \u001b[38;5;241m=\u001b[39m targetSum \u001b[38;5;241m-\u001b[39m n\n\u001b[1;32m---> 10\u001b[0m     remainderresult \u001b[38;5;241m=\u001b[39m \u001b[43mbestSum\u001b[49m\u001b[43m(\u001b[49m\u001b[43mremainder\u001b[49m\u001b[43m,\u001b[49m\u001b[43m \u001b[49m\u001b[43mnums\u001b[49m\u001b[43m)\u001b[49m\n\u001b[0;32m     12\u001b[0m     \u001b[38;5;28;01mif\u001b[39;00m remainderresult \u001b[38;5;129;01mis\u001b[39;00m \u001b[38;5;129;01mnot\u001b[39;00m \u001b[38;5;28;01mNone\u001b[39;00m:\n\u001b[0;32m     13\u001b[0m         combination \u001b[38;5;241m=\u001b[39m remainderresult \u001b[38;5;241m+\u001b[39m [n]\n",
      "Cell \u001b[1;32mIn[7], line 10\u001b[0m, in \u001b[0;36mbestSum\u001b[1;34m(targetSum, nums)\u001b[0m\n\u001b[0;32m      8\u001b[0m \u001b[38;5;28;01mfor\u001b[39;00m n \u001b[38;5;129;01min\u001b[39;00m nums:\n\u001b[0;32m      9\u001b[0m     remainder \u001b[38;5;241m=\u001b[39m targetSum \u001b[38;5;241m-\u001b[39m n\n\u001b[1;32m---> 10\u001b[0m     remainderresult \u001b[38;5;241m=\u001b[39m \u001b[43mbestSum\u001b[49m\u001b[43m(\u001b[49m\u001b[43mremainder\u001b[49m\u001b[43m,\u001b[49m\u001b[43m \u001b[49m\u001b[43mnums\u001b[49m\u001b[43m)\u001b[49m\n\u001b[0;32m     12\u001b[0m     \u001b[38;5;28;01mif\u001b[39;00m remainderresult \u001b[38;5;129;01mis\u001b[39;00m \u001b[38;5;129;01mnot\u001b[39;00m \u001b[38;5;28;01mNone\u001b[39;00m:\n\u001b[0;32m     13\u001b[0m         combination \u001b[38;5;241m=\u001b[39m remainderresult \u001b[38;5;241m+\u001b[39m [n]\n",
      "    \u001b[1;31m[... skipping similar frames: bestSum at line 10 (82 times)]\u001b[0m\n",
      "Cell \u001b[1;32mIn[7], line 10\u001b[0m, in \u001b[0;36mbestSum\u001b[1;34m(targetSum, nums)\u001b[0m\n\u001b[0;32m      8\u001b[0m \u001b[38;5;28;01mfor\u001b[39;00m n \u001b[38;5;129;01min\u001b[39;00m nums:\n\u001b[0;32m      9\u001b[0m     remainder \u001b[38;5;241m=\u001b[39m targetSum \u001b[38;5;241m-\u001b[39m n\n\u001b[1;32m---> 10\u001b[0m     remainderresult \u001b[38;5;241m=\u001b[39m \u001b[43mbestSum\u001b[49m\u001b[43m(\u001b[49m\u001b[43mremainder\u001b[49m\u001b[43m,\u001b[49m\u001b[43m \u001b[49m\u001b[43mnums\u001b[49m\u001b[43m)\u001b[49m\n\u001b[0;32m     12\u001b[0m     \u001b[38;5;28;01mif\u001b[39;00m remainderresult \u001b[38;5;129;01mis\u001b[39;00m \u001b[38;5;129;01mnot\u001b[39;00m \u001b[38;5;28;01mNone\u001b[39;00m:\n\u001b[0;32m     13\u001b[0m         combination \u001b[38;5;241m=\u001b[39m remainderresult \u001b[38;5;241m+\u001b[39m [n]\n",
      "Cell \u001b[1;32mIn[7], line 16\u001b[0m, in \u001b[0;36mbestSum\u001b[1;34m(targetSum, nums)\u001b[0m\n\u001b[0;32m     13\u001b[0m         combination \u001b[38;5;241m=\u001b[39m remainderresult \u001b[38;5;241m+\u001b[39m [n]\n\u001b[0;32m     15\u001b[0m         \u001b[38;5;66;03m# choose the shortest combination. \u001b[39;00m\n\u001b[1;32m---> 16\u001b[0m         \u001b[38;5;28;01mif\u001b[39;00m shortedComination \u001b[38;5;241m==\u001b[39m \u001b[38;5;28;01mNone\u001b[39;00m \u001b[38;5;129;01mor\u001b[39;00m \u001b[38;5;28mlen\u001b[39m(combination)\u001b[38;5;241m<\u001b[39m\u001b[38;5;28mlen\u001b[39m(shortedComination) :\n\u001b[0;32m     17\u001b[0m             shortedComination \u001b[38;5;241m=\u001b[39m combination \n\u001b[0;32m     19\u001b[0m \u001b[38;5;28;01mreturn\u001b[39;00m shortedComination\n",
      "\u001b[1;31mKeyboardInterrupt\u001b[0m: "
     ]
    }
   ],
   "source": [
    "# recursion\n",
    "\n",
    "def bestSum(targetSum, nums):\n",
    "    if targetSum == 0: return []\n",
    "\n",
    "    if targetSum < 0: return None\n",
    "    shortedComination = None\n",
    "    for n in nums:\n",
    "        remainder = targetSum - n\n",
    "        remainderresult = bestSum(remainder, nums)\n",
    "\n",
    "        if remainderresult is not None:\n",
    "            combination = remainderresult + [n]\n",
    "\n",
    "            # choose the shortest combination. \n",
    "            if shortedComination == None or len(combination)<len(shortedComination) :\n",
    "                shortedComination = combination \n",
    "\n",
    "    return shortedComination\n",
    "\n",
    "\n",
    "print(bestSum(7, [5,3,4,7]))\n",
    "print(bestSum(8, [2,3, 5]))\n",
    "print(bestSum(8, [1,4, 5]))\n",
    "print(bestSum(100, [1, 2,5, 25]))"
   ]
  },
  {
   "cell_type": "code",
   "execution_count": null,
   "id": "a1c824d1",
   "metadata": {},
   "outputs": [
    {
     "name": "stdout",
     "output_type": "stream",
     "text": [
      "[7]\n",
      "[5, 3]\n",
      "[4, 4]\n",
      "[25, 25, 25, 25]\n"
     ]
    }
   ],
   "source": [
    "# memoization\n",
    "\n",
    "def bestSum(targetSum, nums, memo = None):\n",
    "    if memo == None:\n",
    "        memo = {}\n",
    "    if targetSum in memo:\n",
    "        return memo[targetSum]\n",
    "    if targetSum == 0: return []\n",
    "\n",
    "    if targetSum < 0: return None\n",
    "\n",
    "\n",
    "    shortedComination = None\n",
    "    for n in nums:\n",
    "        remainder = targetSum - n\n",
    "        remainderresult = bestSum(remainder, nums, memo)\n",
    "\n",
    "        if remainderresult is not None:\n",
    "            combination = remainderresult + [n]\n",
    "\n",
    "            #combination = remainderresult.copy()\n",
    "            #combination.append(n)\n",
    "\n",
    "            # choose the shortest combination. \n",
    "            if shortedComination == None or len(combination)<len(shortedComination) :\n",
    "                shortedComination = combination \n",
    "            \n",
    "    memo[targetSum] = shortedComination\n",
    "    return shortedComination\n",
    "\n",
    "\n",
    "print(bestSum(7, [5,3,4,7]))\n",
    "print(bestSum(8, [2,3, 5]))\n",
    "print(bestSum(8, [1,4, 5]))\n",
    "print(bestSum(100, [1, 2,5, 25]))"
   ]
  },
  {
   "cell_type": "code",
   "execution_count": 7,
   "id": "fd76ae66",
   "metadata": {},
   "outputs": [
    {
     "name": "stdout",
     "output_type": "stream",
     "text": [
      "[7]\n",
      "[3, 5]\n",
      "[4, 4]\n",
      "[25, 25, 25, 25]\n"
     ]
    }
   ],
   "source": [
    "# tabulation\n",
    "\n",
    "def bestSum(target, nums):\n",
    "    table = [None]* (target+1)\n",
    "     # seed\n",
    "    table[0] = []\n",
    "\n",
    "    for i in range(target+1):\n",
    "        if table[i] is not None:\n",
    "            for n in nums:\n",
    "                if i+n <= target:\n",
    "                    newList = table[i] + [n]\n",
    "                    if table[i+n] is None or len(newList) < len(table[i+n]):\n",
    "                        table[i+n] = newList\n",
    "\n",
    "    return table[target]\n",
    "\n",
    "\n",
    "print(bestSum(7, [5,3,4,7]))\n",
    "print(bestSum(8, [2,3, 5]))\n",
    "print(bestSum(8, [1,4, 5]))\n",
    "print(bestSum(100, [1, 2,5, 25]))"
   ]
  }
 ],
 "metadata": {
  "kernelspec": {
   "display_name": "Python 3",
   "language": "python",
   "name": "python3"
  },
  "language_info": {
   "codemirror_mode": {
    "name": "ipython",
    "version": 3
   },
   "file_extension": ".py",
   "mimetype": "text/x-python",
   "name": "python",
   "nbconvert_exporter": "python",
   "pygments_lexer": "ipython3",
   "version": "3.12.6"
  }
 },
 "nbformat": 4,
 "nbformat_minor": 5
}
